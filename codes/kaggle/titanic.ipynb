{
 "cells": [
  {
   "cell_type": "code",
   "execution_count": 1,
   "metadata": {
    "collapsed": true
   },
   "outputs": [],
   "source": [
    "import pandas as pd\n",
    "import numpy as np"
   ]
  },
  {
   "cell_type": "code",
   "execution_count": 2,
   "metadata": {
    "collapsed": false
   },
   "outputs": [],
   "source": [
    "df = pd.read_csv('train.csv')\n",
    "df_test = pd.read_csv('test.csv')\n",
    "df = pd.concat([df, df_test])\n",
    "df = df.reset_index(drop=True)"
   ]
  },
  {
   "cell_type": "code",
   "execution_count": 3,
   "metadata": {
    "collapsed": false
   },
   "outputs": [
    {
     "name": "stdout",
     "output_type": "stream",
     "text": [
      "<class 'pandas.core.frame.DataFrame'>\n",
      "RangeIndex: 1309 entries, 0 to 1308\n",
      "Data columns (total 12 columns):\n",
      "Age            1046 non-null float64\n",
      "Cabin          295 non-null object\n",
      "Embarked       1307 non-null object\n",
      "Fare           1308 non-null float64\n",
      "Name           1309 non-null object\n",
      "Parch          1309 non-null int64\n",
      "PassengerId    1309 non-null int64\n",
      "Pclass         1309 non-null int64\n",
      "Sex            1309 non-null object\n",
      "SibSp          1309 non-null int64\n",
      "Survived       891 non-null float64\n",
      "Ticket         1309 non-null object\n",
      "dtypes: float64(3), int64(4), object(5)\n",
      "memory usage: 122.8+ KB\n"
     ]
    }
   ],
   "source": [
    "df.info()"
   ]
  },
  {
   "cell_type": "code",
   "execution_count": 4,
   "metadata": {
    "collapsed": false
   },
   "outputs": [
    {
     "name": "stdout",
     "output_type": "stream",
     "text": [
      "column = Age has nans\n",
      "column = Cabin has nans\n",
      "column = Embarked has nans\n",
      "column = Fare has nans\n",
      "column = Survived has nans\n"
     ]
    }
   ],
   "source": [
    "for c in df.columns:\n",
    "    if df[c].hasnans:\n",
    "        print 'column = {} has nans'.format(c)"
   ]
  },
  {
   "cell_type": "code",
   "execution_count": 5,
   "metadata": {
    "collapsed": false
   },
   "outputs": [
    {
     "name": "stdout",
     "output_type": "stream",
     "text": [
      "759 Rothes, the Countess. of (Lucy Noel Martha Dyer-Edwards)\n",
      "822 Reuchlin, Jonkheer. John George\n",
      "1305 Oliva y Ocana, Dona. Fermina\n"
     ]
    }
   ],
   "source": [
    "names = df['Name']\n",
    "titles = ['Mr.', 'Miss.', 'Mrs.', 'Master.', 'Dr.', 'Don.', 'Rev.', 'Major.', 'Col.', 'Capt.', 'Ms.', 'Lady.', 'Sir.', 'Mme.', 'Mlle.']\n",
    "for (idx, n) in enumerate(names):\n",
    "    match = False\n",
    "    for t in titles:\n",
    "        if n.find(t) != -1:\n",
    "            match = True\n",
    "            break\n",
    "    if not match:\n",
    "        print idx, n\n",
    "        \n",
    "title_mapping = {'Mme.': 'Mrs.',\n",
    "           'Mlle.': 'Miss.',\n",
    "           'Sir.': 'Mr.',\n",
    "           'Lady.': 'Miss.',\n",
    "           'Ms.': 'Miss.'}\n",
    "        \n",
    "def norm_title(r):\n",
    "    name = r['Name']\n",
    "    for t in titles:\n",
    "        if name.find(t) != -1:\n",
    "            if t in title_mapping: return title_mapping[t]\n",
    "            else: return t\n",
    "    sex = r['Sex']\n",
    "    if sex == 'female': return 'Mrs.'\n",
    "    else: return 'Mr.'"
   ]
  },
  {
   "cell_type": "code",
   "execution_count": 6,
   "metadata": {
    "collapsed": false
   },
   "outputs": [],
   "source": [
    "df['Title'] = df[['Name', 'Sex']].apply(norm_title, axis = 1)"
   ]
  },
  {
   "cell_type": "code",
   "execution_count": 7,
   "metadata": {
    "collapsed": false
   },
   "outputs": [
    {
     "data": {
      "text/plain": [
       "{'Capt.': 70.0,\n",
       " 'Col.': 54.5,\n",
       " 'Don.': 40.0,\n",
       " 'Dr.': 49.0,\n",
       " 'Major.': 48.5,\n",
       " 'Master.': 4.0,\n",
       " 'Miss.': 22.0,\n",
       " 'Mr.': 29.0,\n",
       " 'Mrs.': 35.0,\n",
       " 'Rev.': 41.5}"
      ]
     },
     "execution_count": 7,
     "metadata": {},
     "output_type": "execute_result"
    }
   ],
   "source": [
    "age_data = df[['Age', 'Title']]\n",
    "x = age_data['Age']\n",
    "y = age_data[~x.isnull()]\n",
    "z = y.groupby('Title').median()\n",
    "age_mapping = {}\n",
    "for r in z.iterrows():\n",
    "    t = r[0]\n",
    "    v = r[1][0]\n",
    "    age_mapping[t] = v\n",
    "age_mapping"
   ]
  },
  {
   "cell_type": "code",
   "execution_count": 8,
   "metadata": {
    "collapsed": false
   },
   "outputs": [],
   "source": [
    "ages = df[df['Age'].isnull()].apply(lambda x: age_mapping[x['Title']], axis = 1)\n",
    "df.iloc[ages.index, df.columns.get_loc('Age')] = ages"
   ]
  },
  {
   "cell_type": "code",
   "execution_count": 9,
   "metadata": {
    "collapsed": false
   },
   "outputs": [
    {
     "name": "stdout",
     "output_type": "stream",
     "text": [
      "<class 'pandas.core.frame.DataFrame'>\n",
      "RangeIndex: 1309 entries, 0 to 1308\n",
      "Data columns (total 13 columns):\n",
      "Age            1309 non-null float64\n",
      "Cabin          295 non-null object\n",
      "Embarked       1307 non-null object\n",
      "Fare           1308 non-null float64\n",
      "Name           1309 non-null object\n",
      "Parch          1309 non-null int64\n",
      "PassengerId    1309 non-null int64\n",
      "Pclass         1309 non-null int64\n",
      "Sex            1309 non-null object\n",
      "SibSp          1309 non-null int64\n",
      "Survived       891 non-null float64\n",
      "Ticket         1309 non-null object\n",
      "Title          1309 non-null object\n",
      "dtypes: float64(3), int64(4), object(6)\n",
      "memory usage: 133.0+ KB\n"
     ]
    }
   ],
   "source": [
    "df.info()"
   ]
  },
  {
   "cell_type": "code",
   "execution_count": 10,
   "metadata": {
    "collapsed": false
   },
   "outputs": [],
   "source": [
    "df['Embarked'].fillna('S', inplace = True)\n",
    "df['Fare'].fillna(method = 'bfill', inplace = True)\n",
    "df['Relative'] = df['Parch'] + df['SibSp']"
   ]
  },
  {
   "cell_type": "code",
   "execution_count": 11,
   "metadata": {
    "collapsed": false
   },
   "outputs": [],
   "source": [
    "emb = pd.get_dummies(df['Embarked'], prefix = 'emb')\n",
    "pc = pd.get_dummies(df['Pclass'], prefix='pc')\n",
    "sex = pd.get_dummies(df['Sex'], prefix = 'sex')\n",
    "title = pd.get_dummies(df['Title'], prefix = 'tt')"
   ]
  },
  {
   "cell_type": "code",
   "execution_count": 12,
   "metadata": {
    "collapsed": false
   },
   "outputs": [],
   "source": [
    "df2 = pd.concat([df, emb, pc, sex, title], axis = 1)\n",
    "df_train = df2[~df2['Survived'].isnull()]\n",
    "df_test = df2[df['Survived'].isnull()]"
   ]
  },
  {
   "cell_type": "code",
   "execution_count": 13,
   "metadata": {
    "collapsed": false
   },
   "outputs": [
    {
     "name": "stderr",
     "output_type": "stream",
     "text": [
      "/usr/local/lib/python2.7/dist-packages/sklearn/cross_validation.py:44: DeprecationWarning: This module was deprecated in version 0.18 in favor of the model_selection module into which all the refactored classes and functions are moved. Also note that the interface of the new CV iterators are different from that of this module. This module will be removed in 0.20.\n",
      "  \"This module will be removed in 0.20.\", DeprecationWarning)\n"
     ]
    }
   ],
   "source": [
    "from sklearn.cross_validation import train_test_split, cross_val_score\n",
    "from sklearn.linear_model import LogisticRegression, LogisticRegressionCV\n",
    "from sklearn.ensemble import RandomForestClassifier\n",
    "from sklearn.metrics import accuracy_score"
   ]
  },
  {
   "cell_type": "code",
   "execution_count": 14,
   "metadata": {
    "collapsed": false
   },
   "outputs": [],
   "source": [
    "X, y = (df_train.drop(['Cabin', 'SibSp', 'Parch', 'Survived', 'PassengerId', 'Name', 'Ticket', 'Title', 'Sex', 'Embarked', 'Pclass'], axis = 1), df_train['Survived'])\n",
    "# X_train, X_test, y_train, y_test = train_test_split(X, y, test_size = 0.2)"
   ]
  },
  {
   "cell_type": "code",
   "execution_count": 16,
   "metadata": {
    "collapsed": false
   },
   "outputs": [
    {
     "name": "stdout",
     "output_type": "stream",
     "text": [
      "[ 0.83240223  0.82122905  0.80898876  0.80898876  0.8700565 ]\n"
     ]
    },
    {
     "data": {
      "text/plain": [
       "LogisticRegression(C=1.0, class_weight=None, dual=False, fit_intercept=True,\n",
       "          intercept_scaling=1, max_iter=100, multi_class='ovr', n_jobs=1,\n",
       "          penalty='l2', random_state=None, solver='liblinear', tol=0.0001,\n",
       "          verbose=0, warm_start=False)"
      ]
     },
     "execution_count": 16,
     "metadata": {},
     "output_type": "execute_result"
    }
   ],
   "source": [
    "clf = LogisticRegression()\n",
    "print cross_val_score(clf, X, y, cv = 5)\n",
    "clf.fit(X, y)"
   ]
  },
  {
   "cell_type": "code",
   "execution_count": 17,
   "metadata": {
    "collapsed": false
   },
   "outputs": [
    {
     "name": "stdout",
     "output_type": "stream",
     "text": [
      "[ 0.83240223  0.82122905  0.80898876  0.80898876  0.8700565 ]\n"
     ]
    },
    {
     "data": {
      "text/plain": [
       "RandomForestClassifier(bootstrap=True, class_weight=None, criterion='gini',\n",
       "            max_depth=None, max_features='auto', max_leaf_nodes=None,\n",
       "            min_impurity_split=1e-07, min_samples_leaf=1,\n",
       "            min_samples_split=2, min_weight_fraction_leaf=0.0,\n",
       "            n_estimators=200, n_jobs=1, oob_score=False, random_state=None,\n",
       "            verbose=0, warm_start=False)"
      ]
     },
     "execution_count": 17,
     "metadata": {},
     "output_type": "execute_result"
    }
   ],
   "source": [
    "clf2 = RandomForestClassifier(n_estimators=200)\n",
    "print cross_val_score(clf, X, y, cv = 5)\n",
    "clf2.fit(X, y)"
   ]
  },
  {
   "cell_type": "code",
   "execution_count": 18,
   "metadata": {
    "collapsed": false
   },
   "outputs": [],
   "source": [
    "X_test = df_test.drop(['Cabin', 'SibSp', 'Parch', 'Survived', 'PassengerId', 'Name', 'Ticket', 'Title', 'Sex', 'Embarked', 'Pclass'], axis = 1)\n",
    "y_test= np.round((clf.predict(X_test) + clf2.predict(X_test)) * 0.5)"
   ]
  },
  {
   "cell_type": "code",
   "execution_count": 19,
   "metadata": {
    "collapsed": false
   },
   "outputs": [],
   "source": [
    "df_output = pd.DataFrame({'PassengerId': df_test['PassengerId'], 'Survived': y_test.astype(int)})\n",
    "df_output.to_csv('submission.csv', index=False)"
   ]
  }
 ],
 "metadata": {
  "kernelspec": {
   "display_name": "Python 2",
   "language": "python",
   "name": "python2"
  },
  "language_info": {
   "codemirror_mode": {
    "name": "ipython",
    "version": 2
   },
   "file_extension": ".py",
   "mimetype": "text/x-python",
   "name": "python",
   "nbconvert_exporter": "python",
   "pygments_lexer": "ipython2",
   "version": "2.7.6"
  }
 },
 "nbformat": 4,
 "nbformat_minor": 1
}
